{
   "cells": [
    {
     "cell_type": "code",
     "execution_count": 1,
     "metadata": {
      "collapsed": true,
      "ExecuteTime": {
       "end_time": "2024-12-16T09:40:13.613243Z",
       "start_time": "2024-12-16T09:40:09.568867Z"
      }
     },
     "source": [
      "from torchvision import models, transforms\n",
      "import pandas as pd\n",
      "from superresolution.SuperResolutionTrainer import SuperResolutionTrainer\n",
      "from superresolution.SuperResolutionDataset import SuperResolutionDataset\n",
      "from autoencoder.autoencoder import ResNet50Autoencoder\n"
     ]
    },
    {
     "cell_type": "code",
     "execution_count": 2,
     "outputs": [],
     "source": [
      "config = {\n",
      "    \"comet_api_key\": \"lliw2sljNWoBqtmqb9KztyYsG\",\n",
      "    \"project_name\": \"supperresolution-test-resnet50\",\n",
      "    #\"model_save_path\": \"./models\",\n",
      "    \"max_epochs\": 50,\n",
      "    \"patience\": 15,\n",
      "    \"batch_size\": 16,\n",
      "    \"learning_rate\": 1e-4\n",
      "}\n"
     ],
     "metadata": {
      "collapsed": false,
      "ExecuteTime": {
       "end_time": "2024-12-16T09:40:13.619630Z",
       "start_time": "2024-12-16T09:40:13.617012Z"
      }
     },
     "outputs": [],
     "execution_count": 2
    },
    {
     "cell_type": "code",
     "execution_count": 3,
     "outputs": [],
     "source": [
      "df = pd.read_parquet('local_wikiart.parquet', columns=['title', 'artist', 'date', 'genre', 'style', 'image']).head(9000)"
     ],
     "metadata": {
      "collapsed": false,
      "ExecuteTime": {
       "end_time": "2024-12-16T09:40:14.987993Z",
       "start_time": "2024-12-16T09:40:13.697648Z"
      }
     },
     "outputs": [],
     "execution_count": 3
    },
    {
     "cell_type": "code",
     "execution_count": 4,
     "outputs": [],
     "source": [
      "transform = transforms.Compose([\n",
      "    transforms.Resize((224, 224)),\n",
      "    transforms.ToTensor()\n",
      "])\n",
      "\n",
      "#dataset = InpaintingDataset(df, transform=transform)\n",
      "#model = ResNet50Autoencoder(latent_dim=256, freeze_percentage=0.8)\n",
      "#trainer = InpaintingTrainer(model, dataset, config)\n",
      "#trainer.train()\n"
     ],
     "metadata": {
      "collapsed": false
     }
    },
    {
     "cell_type": "code",
     "execution_count": 5,
     "outputs": [
      {
       "name": "stderr",
       "output_type": "stream",
       "text": [
        "\u001B[1;38;5;214mCOMET WARNING:\u001B[0m To get all data logged automatically, import comet_ml before the following modules: torch.\n",
        "\u001B[1;38;5;214mCOMET WARNING:\u001B[0m As you are running in a Jupyter environment, you will need to call `experiment.end()` when finished to ensure all metrics and code are logged before exiting.\n",
        "\u001B[1;38;5;39mCOMET INFO:\u001B[0m Experiment is live on comet.com https://www.comet.com/adrian-rochminski/supperresolution-test-resnet50/1149df3d357e43b88deca4b4a06cdc20\n",
        "\n",
        "C:\\Users\\Adrian\\AppData\\Local\\Programs\\Python\\Python311\\Lib\\site-packages\\torchvision\\models\\_utils.py:208: UserWarning: The parameter 'pretrained' is deprecated since 0.13 and may be removed in the future, please use 'weights' instead.\n",
        "  warnings.warn(\n",
        "C:\\Users\\Adrian\\AppData\\Local\\Programs\\Python\\Python311\\Lib\\site-packages\\torchvision\\models\\_utils.py:223: UserWarning: Arguments other than a weight enum or `None` for 'weights' are deprecated since 0.13 and may be removed in the future. The current behavior is equivalent to passing `weights=ResNet50_Weights.IMAGENET1K_V1`. You can also use `weights=ResNet50_Weights.DEFAULT` to get the most up-to-date weights.\n",
        "  warnings.warn(msg)\n"
       ]
      },
      {
       "name": "stdout",
       "output_type": "stream",
       "text": [
        "\n",
        "Epoch 1/50\n",
        "Train Epoch: 1 [16/6300 (0%)] Loss: 0.223298 Time: 15.84s\n"
       ]
      },
      {
       "name": "stderr",
       "output_type": "stream",
       "text": [
        "Exception ignored in: <function _MultiProcessingDataLoaderIter.__del__ at 0x0000021A652A1800>\n",
        "Traceback (most recent call last):\n",
        "  File \"C:\\Users\\Adrian\\AppData\\Local\\Programs\\Python\\Python311\\Lib\\site-packages\\torch\\utils\\data\\dataloader.py\", line 1479, in __del__\n",
        "    self._shutdown_workers()\n",
        "  File \"C:\\Users\\Adrian\\AppData\\Local\\Programs\\Python\\Python311\\Lib\\site-packages\\torch\\utils\\data\\dataloader.py\", line 1467, in _shutdown_workers\n",
        "    w.terminate()\n",
        "  File \"C:\\Users\\Adrian\\AppData\\Local\\Programs\\Python\\Python311\\Lib\\multiprocessing\\process.py\", line 133, in terminate\n",
        "    self._popen.terminate()\n",
        "  File \"C:\\Users\\Adrian\\AppData\\Local\\Programs\\Python\\Python311\\Lib\\multiprocessing\\popen_spawn_win32.py\", line 126, in terminate\n",
        "    if self.wait(timeout=1.0) is None:\n",
        "       ^^^^^^^^^^^^^^^^^^^^^^\n",
        "  File \"C:\\Users\\Adrian\\AppData\\Local\\Programs\\Python\\Python311\\Lib\\multiprocessing\\popen_spawn_win32.py\", line 109, in wait\n",
        "    res = _winapi.WaitForSingleObject(int(self._handle), msecs)\n",
        "          ^^^^^^^^^^^^^^^^^^^^^^^^^^^^^^^^^^^^^^^^^^^^^^^^^^^^^\n",
        "KeyboardInterrupt: \n",
        "Exception ignored in: <bound method IPythonKernel._clean_thread_parent_frames of <ipykernel.ipkernel.IPythonKernel object at 0x0000021A52632CD0>>\n",
        "Traceback (most recent call last):\n",
        "  File \"C:\\Users\\Adrian\\AppData\\Local\\Programs\\Python\\Python311\\Lib\\site-packages\\ipykernel\\ipkernel.py\", line 770, in _clean_thread_parent_frames\n",
        "    def _clean_thread_parent_frames(\n",
        "\n",
        "KeyboardInterrupt: \n"
       ]
      },
      {
       "ename": "KeyboardInterrupt",
       "evalue": "",
       "output_type": "error",
       "traceback": [
        "\u001B[1;31m---------------------------------------------------------------------------\u001B[0m",
        "\u001B[1;31mKeyboardInterrupt\u001B[0m                         Traceback (most recent call last)",
        "Cell \u001B[1;32mIn[5], line 10\u001B[0m\n\u001B[0;32m      8\u001B[0m model \u001B[38;5;241m=\u001B[39m ResNet50Autoencoder(latent_dim\u001B[38;5;241m=\u001B[39m\u001B[38;5;241m256\u001B[39m, freeze_percentage\u001B[38;5;241m=\u001B[39m\u001B[38;5;241m0.8\u001B[39m)\n\u001B[0;32m      9\u001B[0m trainer \u001B[38;5;241m=\u001B[39m SuperResolutionTrainer(\u001B[38;5;28;01mNone\u001B[39;00m, dataset, config)\n\u001B[1;32m---> 10\u001B[0m \u001B[43mtrainer\u001B[49m\u001B[38;5;241;43m.\u001B[39;49m\u001B[43mtrain\u001B[49m\u001B[43m(\u001B[49m\u001B[43m)\u001B[49m\n",
        "File \u001B[1;32m~\\Desktop\\Semestr_2_mg\\un\\UNN\\superresolution\\SuperResolutionTrainer.py:112\u001B[0m, in \u001B[0;36mSuperResolutionTrainer.train\u001B[1;34m(self)\u001B[0m\n\u001B[0;32m    110\u001B[0m outputs \u001B[38;5;241m=\u001B[39m model(low_res_images)\n\u001B[0;32m    111\u001B[0m loss \u001B[38;5;241m=\u001B[39m criterion(outputs, high_res_images)\n\u001B[1;32m--> 112\u001B[0m \u001B[43mloss\u001B[49m\u001B[38;5;241;43m.\u001B[39;49m\u001B[43mbackward\u001B[49m\u001B[43m(\u001B[49m\u001B[43m)\u001B[49m\n\u001B[0;32m    113\u001B[0m optimizer\u001B[38;5;241m.\u001B[39mstep()\n\u001B[0;32m    114\u001B[0m total_train_loss \u001B[38;5;241m+\u001B[39m\u001B[38;5;241m=\u001B[39m loss\u001B[38;5;241m.\u001B[39mitem()\n",
        "File \u001B[1;32m~\\AppData\\Local\\Programs\\Python\\Python311\\Lib\\site-packages\\torch\\_tensor.py:525\u001B[0m, in \u001B[0;36mTensor.backward\u001B[1;34m(self, gradient, retain_graph, create_graph, inputs)\u001B[0m\n\u001B[0;32m    515\u001B[0m \u001B[38;5;28;01mif\u001B[39;00m has_torch_function_unary(\u001B[38;5;28mself\u001B[39m):\n\u001B[0;32m    516\u001B[0m     \u001B[38;5;28;01mreturn\u001B[39;00m handle_torch_function(\n\u001B[0;32m    517\u001B[0m         Tensor\u001B[38;5;241m.\u001B[39mbackward,\n\u001B[0;32m    518\u001B[0m         (\u001B[38;5;28mself\u001B[39m,),\n\u001B[1;32m   (...)\u001B[0m\n\u001B[0;32m    523\u001B[0m         inputs\u001B[38;5;241m=\u001B[39minputs,\n\u001B[0;32m    524\u001B[0m     )\n\u001B[1;32m--> 525\u001B[0m \u001B[43mtorch\u001B[49m\u001B[38;5;241;43m.\u001B[39;49m\u001B[43mautograd\u001B[49m\u001B[38;5;241;43m.\u001B[39;49m\u001B[43mbackward\u001B[49m\u001B[43m(\u001B[49m\n\u001B[0;32m    526\u001B[0m \u001B[43m    \u001B[49m\u001B[38;5;28;43mself\u001B[39;49m\u001B[43m,\u001B[49m\u001B[43m \u001B[49m\u001B[43mgradient\u001B[49m\u001B[43m,\u001B[49m\u001B[43m \u001B[49m\u001B[43mretain_graph\u001B[49m\u001B[43m,\u001B[49m\u001B[43m \u001B[49m\u001B[43mcreate_graph\u001B[49m\u001B[43m,\u001B[49m\u001B[43m \u001B[49m\u001B[43minputs\u001B[49m\u001B[38;5;241;43m=\u001B[39;49m\u001B[43minputs\u001B[49m\n\u001B[0;32m    527\u001B[0m \u001B[43m\u001B[49m\u001B[43m)\u001B[49m\n",
        "File \u001B[1;32m~\\AppData\\Local\\Programs\\Python\\Python311\\Lib\\site-packages\\torch\\autograd\\__init__.py:267\u001B[0m, in \u001B[0;36mbackward\u001B[1;34m(tensors, grad_tensors, retain_graph, create_graph, grad_variables, inputs)\u001B[0m\n\u001B[0;32m    262\u001B[0m     retain_graph \u001B[38;5;241m=\u001B[39m create_graph\n\u001B[0;32m    264\u001B[0m \u001B[38;5;66;03m# The reason we repeat the same comment below is that\u001B[39;00m\n\u001B[0;32m    265\u001B[0m \u001B[38;5;66;03m# some Python versions print out the first line of a multi-line function\u001B[39;00m\n\u001B[0;32m    266\u001B[0m \u001B[38;5;66;03m# calls in the traceback and some print out the last line\u001B[39;00m\n\u001B[1;32m--> 267\u001B[0m \u001B[43m_engine_run_backward\u001B[49m\u001B[43m(\u001B[49m\n\u001B[0;32m    268\u001B[0m \u001B[43m    \u001B[49m\u001B[43mtensors\u001B[49m\u001B[43m,\u001B[49m\n\u001B[0;32m    269\u001B[0m \u001B[43m    \u001B[49m\u001B[43mgrad_tensors_\u001B[49m\u001B[43m,\u001B[49m\n\u001B[0;32m    270\u001B[0m \u001B[43m    \u001B[49m\u001B[43mretain_graph\u001B[49m\u001B[43m,\u001B[49m\n\u001B[0;32m    271\u001B[0m \u001B[43m    \u001B[49m\u001B[43mcreate_graph\u001B[49m\u001B[43m,\u001B[49m\n\u001B[0;32m    272\u001B[0m \u001B[43m    \u001B[49m\u001B[43minputs\u001B[49m\u001B[43m,\u001B[49m\n\u001B[0;32m    273\u001B[0m \u001B[43m    \u001B[49m\u001B[43mallow_unreachable\u001B[49m\u001B[38;5;241;43m=\u001B[39;49m\u001B[38;5;28;43;01mTrue\u001B[39;49;00m\u001B[43m,\u001B[49m\n\u001B[0;32m    274\u001B[0m \u001B[43m    \u001B[49m\u001B[43maccumulate_grad\u001B[49m\u001B[38;5;241;43m=\u001B[39;49m\u001B[38;5;28;43;01mTrue\u001B[39;49;00m\u001B[43m,\u001B[49m\n\u001B[0;32m    275\u001B[0m \u001B[43m\u001B[49m\u001B[43m)\u001B[49m\n",
        "File \u001B[1;32m~\\AppData\\Local\\Programs\\Python\\Python311\\Lib\\site-packages\\torch\\autograd\\graph.py:744\u001B[0m, in \u001B[0;36m_engine_run_backward\u001B[1;34m(t_outputs, *args, **kwargs)\u001B[0m\n\u001B[0;32m    742\u001B[0m     unregister_hooks \u001B[38;5;241m=\u001B[39m _register_logging_hooks_on_whole_graph(t_outputs)\n\u001B[0;32m    743\u001B[0m \u001B[38;5;28;01mtry\u001B[39;00m:\n\u001B[1;32m--> 744\u001B[0m     \u001B[38;5;28;01mreturn\u001B[39;00m \u001B[43mVariable\u001B[49m\u001B[38;5;241;43m.\u001B[39;49m\u001B[43m_execution_engine\u001B[49m\u001B[38;5;241;43m.\u001B[39;49m\u001B[43mrun_backward\u001B[49m\u001B[43m(\u001B[49m\u001B[43m  \u001B[49m\u001B[38;5;66;43;03m# Calls into the C++ engine to run the backward pass\u001B[39;49;00m\n\u001B[0;32m    745\u001B[0m \u001B[43m        \u001B[49m\u001B[43mt_outputs\u001B[49m\u001B[43m,\u001B[49m\u001B[43m \u001B[49m\u001B[38;5;241;43m*\u001B[39;49m\u001B[43margs\u001B[49m\u001B[43m,\u001B[49m\u001B[43m \u001B[49m\u001B[38;5;241;43m*\u001B[39;49m\u001B[38;5;241;43m*\u001B[39;49m\u001B[43mkwargs\u001B[49m\n\u001B[0;32m    746\u001B[0m \u001B[43m    \u001B[49m\u001B[43m)\u001B[49m  \u001B[38;5;66;03m# Calls into the C++ engine to run the backward pass\u001B[39;00m\n\u001B[0;32m    747\u001B[0m \u001B[38;5;28;01mfinally\u001B[39;00m:\n\u001B[0;32m    748\u001B[0m     \u001B[38;5;28;01mif\u001B[39;00m attach_logging_hooks:\n",
        "\u001B[1;31mKeyboardInterrupt\u001B[0m: "
       ]
      }
     ],
     "source": [
      "transform = transforms.Compose([\n",
      "        transforms.Resize((224, 224)),\n",
      "        transforms.ToTensor()\n",
      "    ])\n",
      "\n",
      "\n",
      "dataset = SuperResolutionDataset(df, transform=transform, upscale_factor=2)\n",
      "model = ResNet50Autoencoder(latent_dim=256, freeze_percentage=0.8)\n",
      "trainer = SuperResolutionTrainer(None, dataset, config)\n",
      "trainer.train()"
     ],
     "metadata": {
      "collapsed": false
     }
    },
    {
     "cell_type": "code",
     "execution_count": null,
     "outputs": [],
     "source": [],
     "metadata": {
      "collapsed": false
     }
    }
   ],
   "metadata": {
    "kernelspec": {
     "display_name": "Python 3",
     "language": "python",
     "name": "python3"
    },
    "language_info": {
     "codemirror_mode": {
      "name": "ipython",
      "version": 2
     },
     "file_extension": ".py",
     "mimetype": "text/x-python",
     "name": "python",
     "nbconvert_exporter": "python",
     "pygments_lexer": "ipython2",
     "version": "2.7.6"
    }
   },
   "nbformat": 4,
   "nbformat_minor": 0
  }
  